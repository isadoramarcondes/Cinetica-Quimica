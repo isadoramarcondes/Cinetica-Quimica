{
 "cells": [
  {
   "cell_type": "markdown",
   "id": "30549784-ea34-4492-b07d-1d57dabd7293",
   "metadata": {},
   "source": [
    "# Importações"
   ]
  },
  {
   "cell_type": "code",
   "execution_count": 1,
   "id": "e6c6c2dc-c770-4894-9851-a3b0f6a2b418",
   "metadata": {},
   "outputs": [
    {
     "name": "stdout",
     "output_type": "stream",
     "text": [
      "pygame 2.5.1 (SDL 2.28.2, Python 3.9.7)\n",
      "Hello from the pygame community. https://www.pygame.org/contribute.html\n"
     ]
    }
   ],
   "source": [
    "import pygame\n",
    "import sys\n",
    "import random\n",
    "import math"
   ]
  },
  {
   "cell_type": "markdown",
   "id": "2cdb0900-95a8-41db-b64f-b0d02f34d389",
   "metadata": {},
   "source": [
    "# Classe das esferas"
   ]
  },
  {
   "cell_type": "code",
   "execution_count": 2,
   "id": "5c062f8c-eb70-4faa-bbb1-42b5c7dff3f0",
   "metadata": {},
   "outputs": [],
   "source": [
    "# Definição da classe da Esfera\n",
    "class Ball:\n",
    "    def __init__(self, x, y, radius, speed):\n",
    "        self.x = x\n",
    "        self.y = y\n",
    "        self.radius = radius\n",
    "        self.speed = speed\n",
    "        self.direction_x = random.choice([-1, 1])  # Direção inicial em X\n",
    "        self.direction_y = random.choice([-1, 1])  # Direção inicial em Y\n",
    "\n",
    "    def update(self):\n",
    "        # Atualiza a posição da esfera automaticamente nas direções X e Y\n",
    "        self.x += self.speed * self.direction_x\n",
    "        self.y += self.speed * self.direction_y\n",
    "\n",
    "        # Inverte a direção em X se a esfera atingir as bordas horizontais\n",
    "        if self.x - self.radius < 0 or self.x + self.radius > width:\n",
    "            self.direction_x *= -1\n",
    "\n",
    "        # Inverte a direção em Y se a esfera atingir as bordas verticais\n",
    "        if self.y - self.radius < 0 or self.y + self.radius > height:\n",
    "            self.direction_y *= -1\n",
    "\n",
    "    def draw(self, screen):\n",
    "        pygame.draw.circle(screen, black, (self.x, self.y), self.radius)"
   ]
  },
  {
   "cell_type": "markdown",
   "id": "e080dff6-4020-4f26-9c28-5666f6727ca6",
   "metadata": {},
   "source": [
    "# Simulação"
   ]
  },
  {
   "cell_type": "code",
   "execution_count": 3,
   "id": "8cb5bb64-63a0-4e5b-be83-7eece270bfb2",
   "metadata": {},
   "outputs": [
    {
     "ename": "SystemExit",
     "evalue": "",
     "output_type": "error",
     "traceback": [
      "An exception has occurred, use %tb to see the full traceback.\n",
      "\u001b[1;31mSystemExit\u001b[0m\n"
     ]
    },
    {
     "name": "stderr",
     "output_type": "stream",
     "text": [
      "c:\\venv\\ilumpy\\lib\\site-packages\\IPython\\core\\interactiveshell.py:3449: UserWarning: To exit: use 'exit', 'quit', or Ctrl-D.\n",
      "  warn(\"To exit: use 'exit', 'quit', or Ctrl-D.\", stacklevel=1)\n"
     ]
    }
   ],
   "source": [
    "# Inicialização do Pygame\n",
    "pygame.init()\n",
    "\n",
    "# Configurações da tela\n",
    "width, height = 800, 600\n",
    "screen = pygame.display.set_mode((width, height))\n",
    "pygame.display.set_caption(\"Bolas em Movimento com Colisão\")\n",
    "\n",
    "# Cores\n",
    "white = (255, 255, 255)\n",
    "black = (0, 0, 0)\n",
    "\n",
    "# Tamanho e velocidade das bolas\n",
    "ball_radius = 20\n",
    "ball_speed = 2\n",
    "\n",
    "# Criação de múltiplas bolas\n",
    "num_balls = 5\n",
    "balls = [Ball(random.randint(ball_radius, width - ball_radius),\n",
    "              random.randint(ball_radius, height - ball_radius),\n",
    "              ball_radius, ball_speed) for _ in range(num_balls)]\n",
    "\n",
    "# Loop principal\n",
    "clock = pygame.time.Clock()\n",
    "\n",
    "while True:\n",
    "    for event in pygame.event.get():\n",
    "        if event.type == pygame.QUIT:\n",
    "            pygame.quit()\n",
    "            sys.exit()\n",
    "\n",
    "    # Atualiza todas as bolas\n",
    "    for ball in balls:\n",
    "        ball.update()\n",
    "\n",
    "    # Verifica a colisão entre as bolas\n",
    "    for i, ball1 in enumerate(balls):\n",
    "        for j, ball2 in enumerate(balls):\n",
    "            if i != j:  # Evita a verificação da colisão com a mesma bola\n",
    "                dx = ball2.x - ball1.x\n",
    "                dy = ball2.y - ball1.y\n",
    "                distance = (dx ** 2 + dy ** 2) ** 0.5\n",
    "\n",
    "                if distance <= 2 * ball_radius:  # Verifica a colisão entre os círculos\n",
    "                    # Calcula a direção de colisão\n",
    "                    angle = math.atan2(dy, dx)\n",
    "                    overlap = 2 * ball_radius - distance\n",
    "\n",
    "                    # Move as bolas para evitar a sobreposição\n",
    "                    ball1.x -= overlap * 0.5 * math.cos(angle)\n",
    "                    ball1.y -= overlap * 0.5 * math.sin(angle)\n",
    "                    ball2.x += overlap * 0.5 * math.cos(angle)\n",
    "                    ball2.y += overlap * 0.5 * math.sin(angle)\n",
    "\n",
    "                    # Inverte as direções das bolas\n",
    "                    ball1.direction_x *= -1\n",
    "                    ball1.direction_y *= -1\n",
    "                    ball2.direction_x *= -1\n",
    "                    ball2.direction_y *= -1\n",
    "\n",
    "    # Limpa a tela\n",
    "    screen.fill(white)\n",
    "\n",
    "    # Desenha todas as bolas\n",
    "    for ball in balls:\n",
    "        ball.draw(screen)\n",
    "\n",
    "    # Atualiza a tela\n",
    "    pygame.display.flip()\n",
    "\n",
    "    clock.tick(60)  # Limita a taxa de quadros\n",
    "\n",
    "pygame.quit()"
   ]
  }
 ],
 "metadata": {
  "kernelspec": {
   "display_name": "ilumpy",
   "language": "python",
   "name": "ilumpy"
  },
  "language_info": {
   "codemirror_mode": {
    "name": "ipython",
    "version": 3
   },
   "file_extension": ".py",
   "mimetype": "text/x-python",
   "name": "python",
   "nbconvert_exporter": "python",
   "pygments_lexer": "ipython3",
   "version": "3.9.7"
  }
 },
 "nbformat": 4,
 "nbformat_minor": 5
}
